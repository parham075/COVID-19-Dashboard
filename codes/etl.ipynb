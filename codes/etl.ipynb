{
 "cells": [
  {
   "cell_type": "code",
   "execution_count": 1,
   "metadata": {},
   "outputs": [
    {
     "data": {
      "text/plain": [
       "<configparser.ConfigParser at 0x7f52b4296a70>"
      ]
     },
     "execution_count": 1,
     "metadata": {},
     "output_type": "execute_result"
    }
   ],
   "source": [
    "import boto3\n",
    "import pandas as pd\n",
    "from io import StringIO # encode data into binary format\n",
    "import configparser\n",
    "import time\n",
    "config = configparser.ConfigParser()\n",
    "config.read_file(open('cluster.config'))\n",
    "config"
   ]
  },
  {
   "cell_type": "code",
   "execution_count": 42,
   "metadata": {},
   "outputs": [],
   "source": [
    "AWS_ACCESS_KEY             = config.get('AWS','KEY')\n",
    "AWS_SECRET_KEY             = config.get('AWS','SECRET')\n",
    "AWS_REGION                 = config.get('AWS', 'REGION')\n",
    "SCHEMA_NAME                = \"covid_19\"    # Database name in the athena\n",
    "S3_STAGING_DIR             = \"s3://parham-test-bucket-26092023/output\"\n",
    "S3_BUCKET_NAME             = \"parham-test-bucket-26092023\"\n",
    "S3_OUTPUT_DIRECTORY        = \"output\""
   ]
  },
  {
   "cell_type": "code",
   "execution_count": 3,
   "metadata": {},
   "outputs": [],
   "source": [
    "# connect athena and query data\n",
    "athena_client = boto3.client(\n",
    "    \"athena\",\n",
    "    aws_access_key_id = AWS_ACCESS_KEY,\n",
    "    aws_secret_access_key=AWS_SECRET_KEY,\n",
    "    region_name= AWS_REGION\n",
    ")"
   ]
  },
  {
   "cell_type": "code",
   "execution_count": 9,
   "metadata": {},
   "outputs": [],
   "source": [
    "Dict = {}\n",
    "def download_and_load_query_results(\n",
    "        client:boto3.client,query_response: Dict\n",
    ") -> pd.DataFrame:\n",
    "    while True:\n",
    "        try:\n",
    "            # This function only loads the first 1000 rows\n",
    "            client.get_query_results(\n",
    "                QueryExecutionId= query_response[\"QueryExecutionId\"]\n",
    "            )\n",
    "            break\n",
    "        except Exception as e:\n",
    "            if \"not yet finished\" in str(e):\n",
    "                time.sleep(0.001)\n",
    "            else:\n",
    "                raise e\n",
    "    temp_file_location: str = \"athena_query_results.csv\"\n",
    "    s3_client = boto3.client(\n",
    "        \"s3\",\n",
    "        aws_access_key_id = AWS_ACCESS_KEY,\n",
    "        aws_secret_access_key=AWS_SECRET_KEY,\n",
    "        region_name= AWS_REGION\n",
    "    )\n",
    "    s3_client.download_file(\n",
    "        S3_BUCKET_NAME,\n",
    "        f\"{S3_OUTPUT_DIRECTORY}/{query_response['QueryExecutionId']}.csv\",\n",
    "        temp_file_location\n",
    "    )\n",
    "    return pd.read_csv(temp_file_location)"
   ]
  },
  {
   "cell_type": "markdown",
   "metadata": {},
   "source": [
    "### Make some query on Datasets"
   ]
  },
  {
   "cell_type": "code",
   "execution_count": 24,
   "metadata": {},
   "outputs": [
    {
     "data": {
      "text/plain": [
       "{'QueryExecutionId': '44077315-c5f6-4113-926e-ee7f06991b27',\n",
       " 'ResponseMetadata': {'RequestId': '45f1f493-7f68-44f1-b862-323261e9d589',\n",
       "  'HTTPStatusCode': 200,\n",
       "  'HTTPHeaders': {'date': 'Wed, 27 Sep 2023 22:13:12 GMT',\n",
       "   'content-type': 'application/x-amz-json-1.1',\n",
       "   'content-length': '59',\n",
       "   'connection': 'keep-alive',\n",
       "   'x-amzn-requestid': '45f1f493-7f68-44f1-b862-323261e9d589'},\n",
       "  'RetryAttempts': 0}}"
      ]
     },
     "execution_count": 24,
     "metadata": {},
     "output_type": "execute_result"
    }
   ],
   "source": [
    "\n",
    "response = athena_client.start_query_execution(\n",
    "    QueryString = \"SELECT * FROM enigma_jhud\",\n",
    "    QueryExecutionContext={\"Database\":SCHEMA_NAME},\n",
    "    ResultConfiguration={\n",
    "        \"OutputLocation\":S3_STAGING_DIR,\n",
    "        \"EncryptionConfiguration\":{\"EncryptionOption\":\"SSE_S3\"}\n",
    "    },                                                \n",
    ")\n",
    "response"
   ]
  },
  {
   "cell_type": "code",
   "execution_count": 25,
   "metadata": {},
   "outputs": [
    {
     "data": {
      "text/html": [
       "<div>\n",
       "<style scoped>\n",
       "    .dataframe tbody tr th:only-of-type {\n",
       "        vertical-align: middle;\n",
       "    }\n",
       "\n",
       "    .dataframe tbody tr th {\n",
       "        vertical-align: top;\n",
       "    }\n",
       "\n",
       "    .dataframe thead th {\n",
       "        text-align: right;\n",
       "    }\n",
       "</style>\n",
       "<table border=\"1\" class=\"dataframe\">\n",
       "  <thead>\n",
       "    <tr style=\"text-align: right;\">\n",
       "      <th></th>\n",
       "      <th>fips</th>\n",
       "      <th>admin2</th>\n",
       "      <th>province_state</th>\n",
       "      <th>country_region</th>\n",
       "      <th>last_update</th>\n",
       "      <th>latitude</th>\n",
       "      <th>longitude</th>\n",
       "      <th>confirmed</th>\n",
       "      <th>deaths</th>\n",
       "      <th>recovered</th>\n",
       "      <th>active</th>\n",
       "      <th>combined_key</th>\n",
       "      <th>partition_0</th>\n",
       "    </tr>\n",
       "  </thead>\n",
       "  <tbody>\n",
       "    <tr>\n",
       "      <th>0</th>\n",
       "      <td>NaN</td>\n",
       "      <td>NaN</td>\n",
       "      <td>Anhui</td>\n",
       "      <td>China</td>\n",
       "      <td>2020-01-22T17:00:00</td>\n",
       "      <td>31.826</td>\n",
       "      <td>117.226</td>\n",
       "      <td>1.0</td>\n",
       "      <td>NaN</td>\n",
       "      <td>NaN</td>\n",
       "      <td>NaN</td>\n",
       "      <td>\"Anhui</td>\n",
       "      <td>csv</td>\n",
       "    </tr>\n",
       "    <tr>\n",
       "      <th>1</th>\n",
       "      <td>NaN</td>\n",
       "      <td>NaN</td>\n",
       "      <td>Beijing</td>\n",
       "      <td>China</td>\n",
       "      <td>2020-01-22T17:00:00</td>\n",
       "      <td>40.182</td>\n",
       "      <td>116.414</td>\n",
       "      <td>14.0</td>\n",
       "      <td>NaN</td>\n",
       "      <td>NaN</td>\n",
       "      <td>NaN</td>\n",
       "      <td>\"Beijing</td>\n",
       "      <td>csv</td>\n",
       "    </tr>\n",
       "    <tr>\n",
       "      <th>2</th>\n",
       "      <td>NaN</td>\n",
       "      <td>NaN</td>\n",
       "      <td>Chongqing</td>\n",
       "      <td>China</td>\n",
       "      <td>2020-01-22T17:00:00</td>\n",
       "      <td>30.057</td>\n",
       "      <td>107.874</td>\n",
       "      <td>6.0</td>\n",
       "      <td>NaN</td>\n",
       "      <td>NaN</td>\n",
       "      <td>NaN</td>\n",
       "      <td>\"Chongqing</td>\n",
       "      <td>csv</td>\n",
       "    </tr>\n",
       "    <tr>\n",
       "      <th>3</th>\n",
       "      <td>NaN</td>\n",
       "      <td>NaN</td>\n",
       "      <td>Fujian</td>\n",
       "      <td>China</td>\n",
       "      <td>2020-01-22T17:00:00</td>\n",
       "      <td>26.079</td>\n",
       "      <td>117.987</td>\n",
       "      <td>1.0</td>\n",
       "      <td>NaN</td>\n",
       "      <td>NaN</td>\n",
       "      <td>NaN</td>\n",
       "      <td>\"Fujian</td>\n",
       "      <td>csv</td>\n",
       "    </tr>\n",
       "    <tr>\n",
       "      <th>4</th>\n",
       "      <td>NaN</td>\n",
       "      <td>NaN</td>\n",
       "      <td>Gansu</td>\n",
       "      <td>China</td>\n",
       "      <td>2020-01-22T17:00:00</td>\n",
       "      <td>36.061</td>\n",
       "      <td>103.834</td>\n",
       "      <td>NaN</td>\n",
       "      <td>NaN</td>\n",
       "      <td>NaN</td>\n",
       "      <td>NaN</td>\n",
       "      <td>\"Gansu</td>\n",
       "      <td>csv</td>\n",
       "    </tr>\n",
       "  </tbody>\n",
       "</table>\n",
       "</div>"
      ],
      "text/plain": [
       "   fips admin2 province_state country_region          last_update  latitude  \\\n",
       "0   NaN    NaN          Anhui          China  2020-01-22T17:00:00    31.826   \n",
       "1   NaN    NaN        Beijing          China  2020-01-22T17:00:00    40.182   \n",
       "2   NaN    NaN      Chongqing          China  2020-01-22T17:00:00    30.057   \n",
       "3   NaN    NaN         Fujian          China  2020-01-22T17:00:00    26.079   \n",
       "4   NaN    NaN          Gansu          China  2020-01-22T17:00:00    36.061   \n",
       "\n",
       "   longitude  confirmed  deaths  recovered  active combined_key partition_0  \n",
       "0    117.226        1.0     NaN        NaN     NaN       \"Anhui         csv  \n",
       "1    116.414       14.0     NaN        NaN     NaN     \"Beijing         csv  \n",
       "2    107.874        6.0     NaN        NaN     NaN   \"Chongqing         csv  \n",
       "3    117.987        1.0     NaN        NaN     NaN      \"Fujian         csv  \n",
       "4    103.834        NaN     NaN        NaN     NaN       \"Gansu         csv  "
      ]
     },
     "execution_count": 25,
     "metadata": {},
     "output_type": "execute_result"
    }
   ],
   "source": [
    "# enigma\n",
    "enigma_jhud = download_and_load_query_results(athena_client,response)\n",
    "enigma_jhud.head()"
   ]
  },
  {
   "cell_type": "code",
   "execution_count": 11,
   "metadata": {},
   "outputs": [],
   "source": [
    "# nytimes data\n",
    "response = athena_client.start_query_execution(\n",
    "    QueryString = \"SELECT * FROM nytimes_data_in_usa_us_county\",\n",
    "    QueryExecutionContext={\"Database\":SCHEMA_NAME},\n",
    "    ResultConfiguration={\n",
    "        \"OutputLocation\":S3_STAGING_DIR,\n",
    "        \"EncryptionConfiguration\":{\"EncryptionOption\":\"SSE_S3\"}\n",
    "    },)   \n",
    "nytimes_data_in_usa_us_county = download_and_load_query_results(athena_client,response)\n",
    "\n",
    "response = athena_client.start_query_execution(\n",
    "    QueryString = \"SELECT * FROM nytimes_data_in_usa_us_states\",\n",
    "    QueryExecutionContext={\"Database\":SCHEMA_NAME},\n",
    "    ResultConfiguration={\n",
    "        \"OutputLocation\":S3_STAGING_DIR,\n",
    "        \"EncryptionConfiguration\":{\"EncryptionOption\":\"SSE_S3\"}\n",
    "    },)   \n",
    "nytimes_data_in_usa_us_states = download_and_load_query_results(athena_client,response)\n"
   ]
  },
  {
   "cell_type": "code",
   "execution_count": 32,
   "metadata": {},
   "outputs": [],
   "source": [
    "# rearc data\n",
    "response = athena_client.start_query_execution(\n",
    "    QueryString = \"SELECT * FROM rearc_covid_19_testing_data_states_dailystates_daily\",\n",
    "    QueryExecutionContext={\"Database\":SCHEMA_NAME},\n",
    "    ResultConfiguration={\n",
    "        \"OutputLocation\":S3_STAGING_DIR,\n",
    "        \"EncryptionConfiguration\":{\"EncryptionOption\":\"SSE_S3\"}\n",
    "    },)   \n",
    "rearc_covid_19_testing_data_states_dailystates_daily = download_and_load_query_results(athena_client,response)\n",
    "\n",
    "response = athena_client.start_query_execution(\n",
    "    QueryString = \"SELECT * FROM rearc_covid_19_testing_data_us_total_latest\",\n",
    "    QueryExecutionContext={\"Database\":SCHEMA_NAME},\n",
    "    ResultConfiguration={\n",
    "        \"OutputLocation\":S3_STAGING_DIR,\n",
    "        \"EncryptionConfiguration\":{\"EncryptionOption\":\"SSE_S3\"}\n",
    "    },)   \n",
    "rearc_covid_19_testing_data_us_total_latest = download_and_load_query_results(athena_client,response)\n",
    "\n",
    "response = athena_client.start_query_execution(\n",
    "    QueryString = \"SELECT * FROM rearc_covid_19_testing_dataus_daily\",\n",
    "    QueryExecutionContext={\"Database\":SCHEMA_NAME},\n",
    "    ResultConfiguration={\n",
    "        \"OutputLocation\":S3_STAGING_DIR,\n",
    "        \"EncryptionConfiguration\":{\"EncryptionOption\":\"SSE_S3\"}\n",
    "    },)   \n",
    "rearc_covid_19_testing_dataus_daily = download_and_load_query_results(athena_client,response)\n",
    "\n",
    "response = athena_client.start_query_execution(\n",
    "    QueryString = \"SELECT * FROM rearc_usa_hospital_beds\",\n",
    "    QueryExecutionContext={\"Database\":SCHEMA_NAME},\n",
    "    ResultConfiguration={\n",
    "        \"OutputLocation\":S3_STAGING_DIR,\n",
    "        \"EncryptionConfiguration\":{\"EncryptionOption\":\"SSE_S3\"}\n",
    "    },)   \n",
    "rearc_usa_hospital_beds = download_and_load_query_results(athena_client,response)\n"
   ]
  },
  {
   "cell_type": "code",
   "execution_count": 13,
   "metadata": {},
   "outputs": [
    {
     "data": {
      "text/html": [
       "<div>\n",
       "<style scoped>\n",
       "    .dataframe tbody tr th:only-of-type {\n",
       "        vertical-align: middle;\n",
       "    }\n",
       "\n",
       "    .dataframe tbody tr th {\n",
       "        vertical-align: top;\n",
       "    }\n",
       "\n",
       "    .dataframe thead th {\n",
       "        text-align: right;\n",
       "    }\n",
       "</style>\n",
       "<table border=\"1\" class=\"dataframe\">\n",
       "  <thead>\n",
       "    <tr style=\"text-align: right;\">\n",
       "      <th></th>\n",
       "      <th>col0</th>\n",
       "      <th>col1</th>\n",
       "    </tr>\n",
       "  </thead>\n",
       "  <tbody>\n",
       "    <tr>\n",
       "      <th>0</th>\n",
       "      <td>State</td>\n",
       "      <td>Abbreviation</td>\n",
       "    </tr>\n",
       "    <tr>\n",
       "      <th>1</th>\n",
       "      <td>Alabama</td>\n",
       "      <td>AL</td>\n",
       "    </tr>\n",
       "    <tr>\n",
       "      <th>2</th>\n",
       "      <td>Alaska</td>\n",
       "      <td>AK</td>\n",
       "    </tr>\n",
       "    <tr>\n",
       "      <th>3</th>\n",
       "      <td>Arizona</td>\n",
       "      <td>AZ</td>\n",
       "    </tr>\n",
       "    <tr>\n",
       "      <th>4</th>\n",
       "      <td>Arkansas</td>\n",
       "      <td>AR</td>\n",
       "    </tr>\n",
       "  </tbody>\n",
       "</table>\n",
       "</div>"
      ],
      "text/plain": [
       "       col0          col1\n",
       "0     State  Abbreviation\n",
       "1   Alabama            AL\n",
       "2    Alaska            AK\n",
       "3   Arizona            AZ\n",
       "4  Arkansas            AR"
      ]
     },
     "execution_count": 13,
     "metadata": {},
     "output_type": "execute_result"
    }
   ],
   "source": [
    "# static data\n",
    "response = athena_client.start_query_execution(\n",
    "    QueryString = \"SELECT * FROM static_data_countrycode\",\n",
    "    QueryExecutionContext={\"Database\":SCHEMA_NAME},\n",
    "    ResultConfiguration={\n",
    "        \"OutputLocation\":S3_STAGING_DIR,\n",
    "        \"EncryptionConfiguration\":{\"EncryptionOption\":\"SSE_S3\"}\n",
    "    },)   \n",
    "static_data_countrycode = download_and_load_query_results(athena_client,response)\n",
    "\n",
    "response = athena_client.start_query_execution(\n",
    "    QueryString = \"SELECT * FROM static_data_countypopulation\",\n",
    "    QueryExecutionContext={\"Database\":SCHEMA_NAME},\n",
    "    ResultConfiguration={\n",
    "        \"OutputLocation\":S3_STAGING_DIR,\n",
    "        \"EncryptionConfiguration\":{\"EncryptionOption\":\"SSE_S3\"}\n",
    "    },)   \n",
    "static_data_countypopulation = download_and_load_query_results(athena_client,response)\n",
    "\n",
    "response = athena_client.start_query_execution(\n",
    "    QueryString = \"SELECT * FROM static_data_state_abv\",\n",
    "    QueryExecutionContext={\"Database\":SCHEMA_NAME},\n",
    "    ResultConfiguration={\n",
    "        \"OutputLocation\":S3_STAGING_DIR,\n",
    "        \"EncryptionConfiguration\":{\"EncryptionOption\":\"SSE_S3\"}\n",
    "    },)   \n",
    "static_data_state_abv = download_and_load_query_results(athena_client,response)\n",
    "static_data_state_abv.head()\n"
   ]
  },
  {
   "cell_type": "markdown",
   "metadata": {},
   "source": [
    "##### As we can see the column names are not correct and we must replace ot with the record 0"
   ]
  },
  {
   "cell_type": "code",
   "execution_count": 14,
   "metadata": {},
   "outputs": [
    {
     "data": {
      "text/html": [
       "<div>\n",
       "<style scoped>\n",
       "    .dataframe tbody tr th:only-of-type {\n",
       "        vertical-align: middle;\n",
       "    }\n",
       "\n",
       "    .dataframe tbody tr th {\n",
       "        vertical-align: top;\n",
       "    }\n",
       "\n",
       "    .dataframe thead th {\n",
       "        text-align: right;\n",
       "    }\n",
       "</style>\n",
       "<table border=\"1\" class=\"dataframe\">\n",
       "  <thead>\n",
       "    <tr style=\"text-align: right;\">\n",
       "      <th></th>\n",
       "      <th>State</th>\n",
       "      <th>Abbreviation</th>\n",
       "    </tr>\n",
       "  </thead>\n",
       "  <tbody>\n",
       "    <tr>\n",
       "      <th>1</th>\n",
       "      <td>Alabama</td>\n",
       "      <td>AL</td>\n",
       "    </tr>\n",
       "    <tr>\n",
       "      <th>2</th>\n",
       "      <td>Alaska</td>\n",
       "      <td>AK</td>\n",
       "    </tr>\n",
       "    <tr>\n",
       "      <th>3</th>\n",
       "      <td>Arizona</td>\n",
       "      <td>AZ</td>\n",
       "    </tr>\n",
       "    <tr>\n",
       "      <th>4</th>\n",
       "      <td>Arkansas</td>\n",
       "      <td>AR</td>\n",
       "    </tr>\n",
       "    <tr>\n",
       "      <th>5</th>\n",
       "      <td>California</td>\n",
       "      <td>CA</td>\n",
       "    </tr>\n",
       "  </tbody>\n",
       "</table>\n",
       "</div>"
      ],
      "text/plain": [
       "0       State Abbreviation\n",
       "1     Alabama           AL\n",
       "2      Alaska           AK\n",
       "3     Arizona           AZ\n",
       "4    Arkansas           AR\n",
       "5  California           CA"
      ]
     },
     "execution_count": 14,
     "metadata": {},
     "output_type": "execute_result"
    }
   ],
   "source": [
    "new_header = static_data_state_abv.iloc[0]\n",
    "static_data_state_abv, static_data_state_abv.columns = static_data_state_abv[1:],new_header\n",
    "static_data_state_abv.head()"
   ]
  },
  {
   "cell_type": "markdown",
   "metadata": {},
   "source": [
    "### Create Dimension Table"
   ]
  },
  {
   "cell_type": "code",
   "execution_count": 21,
   "metadata": {},
   "outputs": [
    {
     "data": {
      "text/plain": [
       "0        NaN\n",
       "1        NaN\n",
       "2        NaN\n",
       "3        NaN\n",
       "4        NaN\n",
       "          ..\n",
       "222799   NaN\n",
       "222800   NaN\n",
       "222801   NaN\n",
       "222802   NaN\n",
       "222803   NaN\n",
       "Name: fips, Length: 222804, dtype: float64"
      ]
     },
     "execution_count": 21,
     "metadata": {},
     "output_type": "execute_result"
    }
   ],
   "source": [
    "enigma_jhud['fips']"
   ]
  },
  {
   "cell_type": "code",
   "execution_count": 29,
   "metadata": {},
   "outputs": [
    {
     "name": "stdout",
     "output_type": "stream",
     "text": [
      "(27992, 13)\n"
     ]
    },
    {
     "data": {
      "text/html": [
       "<div>\n",
       "<style scoped>\n",
       "    .dataframe tbody tr th:only-of-type {\n",
       "        vertical-align: middle;\n",
       "    }\n",
       "\n",
       "    .dataframe tbody tr th {\n",
       "        vertical-align: top;\n",
       "    }\n",
       "\n",
       "    .dataframe thead th {\n",
       "        text-align: right;\n",
       "    }\n",
       "</style>\n",
       "<table border=\"1\" class=\"dataframe\">\n",
       "  <thead>\n",
       "    <tr style=\"text-align: right;\">\n",
       "      <th></th>\n",
       "      <th>fips</th>\n",
       "      <th>province_state</th>\n",
       "      <th>country_region</th>\n",
       "      <th>confirmed</th>\n",
       "      <th>deaths</th>\n",
       "      <th>recovered</th>\n",
       "      <th>active</th>\n",
       "      <th>date</th>\n",
       "      <th>positive</th>\n",
       "      <th>negative</th>\n",
       "      <th>hospitalizedcurrently</th>\n",
       "      <th>hospitalized</th>\n",
       "      <th>hospitalizeddischarged</th>\n",
       "    </tr>\n",
       "  </thead>\n",
       "  <tbody>\n",
       "    <tr>\n",
       "      <th>24440</th>\n",
       "      <td>72.0</td>\n",
       "      <td>Puerto Rico</td>\n",
       "      <td>US</td>\n",
       "      <td>3.0</td>\n",
       "      <td>0.0</td>\n",
       "      <td>0.0</td>\n",
       "      <td>NaN</td>\n",
       "      <td>20210307</td>\n",
       "      <td>101327</td>\n",
       "      <td>305972.0</td>\n",
       "      <td>147.0</td>\n",
       "      <td>NaN</td>\n",
       "      <td>NaN</td>\n",
       "    </tr>\n",
       "    <tr>\n",
       "      <th>24441</th>\n",
       "      <td>72.0</td>\n",
       "      <td>Puerto Rico</td>\n",
       "      <td>US</td>\n",
       "      <td>3.0</td>\n",
       "      <td>0.0</td>\n",
       "      <td>0.0</td>\n",
       "      <td>NaN</td>\n",
       "      <td>20210306</td>\n",
       "      <td>101327</td>\n",
       "      <td>305972.0</td>\n",
       "      <td>147.0</td>\n",
       "      <td>NaN</td>\n",
       "      <td>NaN</td>\n",
       "    </tr>\n",
       "    <tr>\n",
       "      <th>24442</th>\n",
       "      <td>72.0</td>\n",
       "      <td>Puerto Rico</td>\n",
       "      <td>US</td>\n",
       "      <td>3.0</td>\n",
       "      <td>0.0</td>\n",
       "      <td>0.0</td>\n",
       "      <td>NaN</td>\n",
       "      <td>20210305</td>\n",
       "      <td>101066</td>\n",
       "      <td>305972.0</td>\n",
       "      <td>136.0</td>\n",
       "      <td>NaN</td>\n",
       "      <td>NaN</td>\n",
       "    </tr>\n",
       "    <tr>\n",
       "      <th>24443</th>\n",
       "      <td>72.0</td>\n",
       "      <td>Puerto Rico</td>\n",
       "      <td>US</td>\n",
       "      <td>3.0</td>\n",
       "      <td>0.0</td>\n",
       "      <td>0.0</td>\n",
       "      <td>NaN</td>\n",
       "      <td>20210304</td>\n",
       "      <td>100867</td>\n",
       "      <td>305972.0</td>\n",
       "      <td>171.0</td>\n",
       "      <td>NaN</td>\n",
       "      <td>NaN</td>\n",
       "    </tr>\n",
       "    <tr>\n",
       "      <th>24444</th>\n",
       "      <td>72.0</td>\n",
       "      <td>Puerto Rico</td>\n",
       "      <td>US</td>\n",
       "      <td>3.0</td>\n",
       "      <td>0.0</td>\n",
       "      <td>0.0</td>\n",
       "      <td>NaN</td>\n",
       "      <td>20210303</td>\n",
       "      <td>100765</td>\n",
       "      <td>305972.0</td>\n",
       "      <td>169.0</td>\n",
       "      <td>NaN</td>\n",
       "      <td>NaN</td>\n",
       "    </tr>\n",
       "  </tbody>\n",
       "</table>\n",
       "</div>"
      ],
      "text/plain": [
       "       fips province_state country_region  confirmed  deaths  recovered  \\\n",
       "24440  72.0    Puerto Rico             US        3.0     0.0        0.0   \n",
       "24441  72.0    Puerto Rico             US        3.0     0.0        0.0   \n",
       "24442  72.0    Puerto Rico             US        3.0     0.0        0.0   \n",
       "24443  72.0    Puerto Rico             US        3.0     0.0        0.0   \n",
       "24444  72.0    Puerto Rico             US        3.0     0.0        0.0   \n",
       "\n",
       "       active      date  positive  negative  hospitalizedcurrently  \\\n",
       "24440     NaN  20210307    101327  305972.0                  147.0   \n",
       "24441     NaN  20210306    101327  305972.0                  147.0   \n",
       "24442     NaN  20210305    101066  305972.0                  136.0   \n",
       "24443     NaN  20210304    100867  305972.0                  171.0   \n",
       "24444     NaN  20210303    100765  305972.0                  169.0   \n",
       "\n",
       "       hospitalized  hospitalizeddischarged  \n",
       "24440           NaN                     NaN  \n",
       "24441           NaN                     NaN  \n",
       "24442           NaN                     NaN  \n",
       "24443           NaN                     NaN  \n",
       "24444           NaN                     NaN  "
      ]
     },
     "execution_count": 29,
     "metadata": {},
     "output_type": "execute_result"
    }
   ],
   "source": [
    "factCovid_1 = enigma_jhud[['fips','province_state','country_region','confirmed','deaths',\n",
    "                          'recovered','active']]\n",
    "factCovid_2 = rearc_covid_19_testing_data_states_dailystates_daily[['fips','date','positive','negative','hospitalizedcurrently','hospitalized','hospitalizeddischarged']]\n",
    "factCovid = pd.merge(factCovid_1,factCovid_2,on='fips',how='inner')\n",
    "print(factCovid.shape)\n",
    "factCovid[factCovid['fips']>0].head()"
   ]
  },
  {
   "cell_type": "code",
   "execution_count": 48,
   "metadata": {},
   "outputs": [],
   "source": [
    "dimRegion_1 = enigma_jhud[['fips','province_state','country_region','latitude','longitude']]\n",
    "dimRegion_2 = nytimes_data_in_usa_us_county[['fips','county','state']]\n",
    "dimRegion = pd.merge(factCovid_1,factCovid_2,on='fips',how='inner')"
   ]
  },
  {
   "cell_type": "code",
   "execution_count": 33,
   "metadata": {},
   "outputs": [
    {
     "data": {
      "text/plain": [
       "Index(['objectid', 'hospital_name', 'hospital_type', 'hq_address',\n",
       "       'hq_address1', 'hq_city', 'hq_state', 'hq_zip_code', 'county_name',\n",
       "       'state_name', 'state_fips', 'cnty_fips', 'fips', 'num_licensed_beds',\n",
       "       'num_staffed_beds', 'num_icu_beds', 'adult_icu_beds', 'pedi_icu_beds',\n",
       "       'bed_utilization', 'avg_ventilator_usage',\n",
       "       'potential_increase_in_bed_capac', 'latitude', 'longtitude'],\n",
       "      dtype='object')"
      ]
     },
     "execution_count": 33,
     "metadata": {},
     "output_type": "execute_result"
    }
   ],
   "source": [
    "rearc_usa_hospital_beds.columns"
   ]
  },
  {
   "cell_type": "code",
   "execution_count": 51,
   "metadata": {},
   "outputs": [],
   "source": [
    "dimHospital = rearc_usa_hospital_beds[['fips','state_name','latitude','longtitude','hq_address',\n",
    "                                       'hospital_type','hospital_name','hq_city', 'hq_state']]"
   ]
  },
  {
   "cell_type": "code",
   "execution_count": 36,
   "metadata": {},
   "outputs": [
    {
     "name": "stderr",
     "output_type": "stream",
     "text": [
      "/tmp/ipykernel_3688/1089364521.py:2: SettingWithCopyWarning: \n",
      "A value is trying to be set on a copy of a slice from a DataFrame.\n",
      "Try using .loc[row_indexer,col_indexer] = value instead\n",
      "\n",
      "See the caveats in the documentation: https://pandas.pydata.org/pandas-docs/stable/user_guide/indexing.html#returning-a-view-versus-a-copy\n",
      "  dimDate['date'] = pd.to_datetime(dimDate['date'],format='%Y%m%d')\n",
      "/tmp/ipykernel_3688/1089364521.py:3: SettingWithCopyWarning: \n",
      "A value is trying to be set on a copy of a slice from a DataFrame.\n",
      "Try using .loc[row_indexer,col_indexer] = value instead\n",
      "\n",
      "See the caveats in the documentation: https://pandas.pydata.org/pandas-docs/stable/user_guide/indexing.html#returning-a-view-versus-a-copy\n",
      "  dimDate['year'] = dimDate['date'].dt.year\n",
      "/tmp/ipykernel_3688/1089364521.py:4: SettingWithCopyWarning: \n",
      "A value is trying to be set on a copy of a slice from a DataFrame.\n",
      "Try using .loc[row_indexer,col_indexer] = value instead\n",
      "\n",
      "See the caveats in the documentation: https://pandas.pydata.org/pandas-docs/stable/user_guide/indexing.html#returning-a-view-versus-a-copy\n",
      "  dimDate['month'] = dimDate['date'].dt.month\n",
      "/tmp/ipykernel_3688/1089364521.py:5: SettingWithCopyWarning: \n",
      "A value is trying to be set on a copy of a slice from a DataFrame.\n",
      "Try using .loc[row_indexer,col_indexer] = value instead\n",
      "\n",
      "See the caveats in the documentation: https://pandas.pydata.org/pandas-docs/stable/user_guide/indexing.html#returning-a-view-versus-a-copy\n",
      "  dimDate['day_of_week'] = dimDate['date'].dt.day_of_week\n"
     ]
    },
    {
     "data": {
      "text/html": [
       "<div>\n",
       "<style scoped>\n",
       "    .dataframe tbody tr th:only-of-type {\n",
       "        vertical-align: middle;\n",
       "    }\n",
       "\n",
       "    .dataframe tbody tr th {\n",
       "        vertical-align: top;\n",
       "    }\n",
       "\n",
       "    .dataframe thead th {\n",
       "        text-align: right;\n",
       "    }\n",
       "</style>\n",
       "<table border=\"1\" class=\"dataframe\">\n",
       "  <thead>\n",
       "    <tr style=\"text-align: right;\">\n",
       "      <th></th>\n",
       "      <th>fips</th>\n",
       "      <th>date</th>\n",
       "      <th>year</th>\n",
       "      <th>month</th>\n",
       "      <th>day_of_week</th>\n",
       "    </tr>\n",
       "  </thead>\n",
       "  <tbody>\n",
       "    <tr>\n",
       "      <th>0</th>\n",
       "      <td>2.0</td>\n",
       "      <td>2021-03-07</td>\n",
       "      <td>2021</td>\n",
       "      <td>3</td>\n",
       "      <td>6</td>\n",
       "    </tr>\n",
       "    <tr>\n",
       "      <th>1</th>\n",
       "      <td>1.0</td>\n",
       "      <td>2021-03-07</td>\n",
       "      <td>2021</td>\n",
       "      <td>3</td>\n",
       "      <td>6</td>\n",
       "    </tr>\n",
       "    <tr>\n",
       "      <th>2</th>\n",
       "      <td>5.0</td>\n",
       "      <td>2021-03-07</td>\n",
       "      <td>2021</td>\n",
       "      <td>3</td>\n",
       "      <td>6</td>\n",
       "    </tr>\n",
       "    <tr>\n",
       "      <th>3</th>\n",
       "      <td>60.0</td>\n",
       "      <td>2021-03-07</td>\n",
       "      <td>2021</td>\n",
       "      <td>3</td>\n",
       "      <td>6</td>\n",
       "    </tr>\n",
       "    <tr>\n",
       "      <th>4</th>\n",
       "      <td>4.0</td>\n",
       "      <td>2021-03-07</td>\n",
       "      <td>2021</td>\n",
       "      <td>3</td>\n",
       "      <td>6</td>\n",
       "    </tr>\n",
       "  </tbody>\n",
       "</table>\n",
       "</div>"
      ],
      "text/plain": [
       "   fips       date  year  month  day_of_week\n",
       "0   2.0 2021-03-07  2021      3            6\n",
       "1   1.0 2021-03-07  2021      3            6\n",
       "2   5.0 2021-03-07  2021      3            6\n",
       "3  60.0 2021-03-07  2021      3            6\n",
       "4   4.0 2021-03-07  2021      3            6"
      ]
     },
     "execution_count": 36,
     "metadata": {},
     "output_type": "execute_result"
    }
   ],
   "source": [
    "dimDate = rearc_covid_19_testing_data_states_dailystates_daily[['fips','date']]\n",
    "dimDate['date'] = pd.to_datetime(dimDate['date'],format='%Y%m%d')\n",
    "dimDate['year'] = dimDate['date'].dt.year\n",
    "dimDate['month'] = dimDate['date'].dt.month\n",
    "dimDate['day_of_week'] = dimDate['date'].dt.day_of_week\n",
    "dimDate.head()\n"
   ]
  },
  {
   "cell_type": "code",
   "execution_count": 39,
   "metadata": {},
   "outputs": [],
   "source": [
    "bucket = \"parham-covid-de-project\""
   ]
  },
  {
   "cell_type": "code",
   "execution_count": 44,
   "metadata": {},
   "outputs": [
    {
     "data": {
      "text/plain": [
       "{'ResponseMetadata': {'RequestId': '7EWDGS8N3KW9QZB4',\n",
       "  'HostId': 'KDHyxbb/BQbCJ6VzOlSofPqGSFyPErWvn0QfKUAZhZLS5mSKoxHoqVxBusiXFj5MxXRa0rR7k6I=',\n",
       "  'HTTPStatusCode': 200,\n",
       "  'HTTPHeaders': {'x-amz-id-2': 'KDHyxbb/BQbCJ6VzOlSofPqGSFyPErWvn0QfKUAZhZLS5mSKoxHoqVxBusiXFj5MxXRa0rR7k6I=',\n",
       "   'x-amz-request-id': '7EWDGS8N3KW9QZB4',\n",
       "   'date': 'Wed, 27 Sep 2023 23:08:08 GMT',\n",
       "   'x-amz-server-side-encryption': 'AES256',\n",
       "   'etag': '\"17f921c4aaa328789864c1da79f4e138\"',\n",
       "   'server': 'AmazonS3',\n",
       "   'content-length': '0'},\n",
       "  'RetryAttempts': 0},\n",
       " 'ETag': '\"17f921c4aaa328789864c1da79f4e138\"',\n",
       " 'ServerSideEncryption': 'AES256'}"
      ]
     },
     "execution_count": 44,
     "metadata": {},
     "output_type": "execute_result"
    }
   ],
   "source": [
    "# save factCovid to S3 \n",
    "csv_buffer = StringIO()\n",
    "factCovid.to_csv(csv_buffer)\n",
    "s3_source = boto3.resource('s3',\n",
    "                           aws_access_key_id = AWS_ACCESS_KEY,\n",
    "                           aws_secret_access_key=AWS_SECRET_KEY,\n",
    "                           region_name= AWS_REGION)\n",
    "s3_source.Object(bucket,\"output/factCovid.csv\").put(Body=csv_buffer.getvalue())"
   ]
  },
  {
   "cell_type": "code",
   "execution_count": 52,
   "metadata": {},
   "outputs": [
    {
     "data": {
      "text/plain": [
       "{'ResponseMetadata': {'RequestId': 'J7ER1B65B13J1RTN',\n",
       "  'HostId': 'iRmfVy6/NY0+ACAcXEAFsheYDaBihU6CI4LPoouhYQwuCOkUnQR1nV5R7xQWL/O4XXZ1BEqEaHg=',\n",
       "  'HTTPStatusCode': 200,\n",
       "  'HTTPHeaders': {'x-amz-id-2': 'iRmfVy6/NY0+ACAcXEAFsheYDaBihU6CI4LPoouhYQwuCOkUnQR1nV5R7xQWL/O4XXZ1BEqEaHg=',\n",
       "   'x-amz-request-id': 'J7ER1B65B13J1RTN',\n",
       "   'date': 'Wed, 27 Sep 2023 23:14:22 GMT',\n",
       "   'x-amz-server-side-encryption': 'AES256',\n",
       "   'etag': '\"c806953ef77c6fc33fdf78f5d2b636e4\"',\n",
       "   'server': 'AmazonS3',\n",
       "   'content-length': '0'},\n",
       "  'RetryAttempts': 0},\n",
       " 'ETag': '\"c806953ef77c6fc33fdf78f5d2b636e4\"',\n",
       " 'ServerSideEncryption': 'AES256'}"
      ]
     },
     "execution_count": 52,
     "metadata": {},
     "output_type": "execute_result"
    }
   ],
   "source": [
    "# save dimRegion to S3 \n",
    "csv_buffer = StringIO()\n",
    "dimRegion.to_csv(csv_buffer)\n",
    "s3_source = boto3.resource('s3',\n",
    "                           aws_access_key_id = AWS_ACCESS_KEY,\n",
    "                           aws_secret_access_key=AWS_SECRET_KEY,\n",
    "                           region_name= AWS_REGION)\n",
    "s3_source.Object(bucket,\"output/dimRegion.csv\").put(Body=csv_buffer.getvalue())\n",
    "# save dimHospital  to S3 \n",
    "csv_buffer = StringIO()\n",
    "dimHospital.to_csv(csv_buffer)\n",
    "s3_source = boto3.resource('s3',\n",
    "                           aws_access_key_id = AWS_ACCESS_KEY,\n",
    "                           aws_secret_access_key=AWS_SECRET_KEY,\n",
    "                           region_name= AWS_REGION)\n",
    "s3_source.Object(bucket,\"output/dimHospital.csv\").put(Body=csv_buffer.getvalue())\n",
    "# save dimDate  to S3 \n",
    "csv_buffer = StringIO()\n",
    "dimDate.to_csv(csv_buffer)\n",
    "s3_source = boto3.resource('s3',\n",
    "                           aws_access_key_id = AWS_ACCESS_KEY,\n",
    "                           aws_secret_access_key=AWS_SECRET_KEY,\n",
    "                           region_name= AWS_REGION)\n",
    "s3_source.Object(bucket,\"output/dimDate.csv\").put(Body=csv_buffer.getvalue())"
   ]
  },
  {
   "cell_type": "markdown",
   "metadata": {},
   "source": [
    "#### Now we must deploy on AWS Glue "
   ]
  },
  {
   "cell_type": "markdown",
   "metadata": {},
   "source": [
    "We need to extract the schema from out of these data and build table onto Redshift then we can\\\n",
    " write copy command to load that data and then do some analysis on top of it."
   ]
  },
  {
   "cell_type": "code",
   "execution_count": 53,
   "metadata": {},
   "outputs": [
    {
     "name": "stdout",
     "output_type": "stream",
     "text": [
      "CREATE TABLE \"dimDate\" (\n",
      "\"index\" INTEGER,\n",
      "  \"fips\" REAL,\n",
      "  \"date\" TIMESTAMP,\n",
      "  \"year\" INTEGER,\n",
      "  \"month\" INTEGER,\n",
      "  \"day_of_week\" INTEGER\n",
      ")\n"
     ]
    }
   ],
   "source": [
    "dimDatesql = pd.io.sql.get_schema(dimDate.reset_index(),'dimDate')\n",
    "print(''.join(dimDatesql))"
   ]
  },
  {
   "cell_type": "code",
   "execution_count": 54,
   "metadata": {},
   "outputs": [
    {
     "name": "stdout",
     "output_type": "stream",
     "text": [
      "CREATE TABLE \"factCovid\" (\n",
      "\"index\" INTEGER,\n",
      "  \"fips\" REAL,\n",
      "  \"province_state\" TEXT,\n",
      "  \"country_region\" TEXT,\n",
      "  \"confirmed\" REAL,\n",
      "  \"deaths\" REAL,\n",
      "  \"recovered\" REAL,\n",
      "  \"active\" REAL,\n",
      "  \"date\" INTEGER,\n",
      "  \"positive\" INTEGER,\n",
      "  \"negative\" REAL,\n",
      "  \"hospitalizedcurrently\" REAL,\n",
      "  \"hospitalized\" REAL,\n",
      "  \"hospitalizeddischarged\" REAL\n",
      ")\n"
     ]
    }
   ],
   "source": [
    "factCovidsql = pd.io.sql.get_schema(factCovid.reset_index(),'factCovid')\n",
    "print(''.join(factCovidsql))"
   ]
  },
  {
   "cell_type": "code",
   "execution_count": 55,
   "metadata": {},
   "outputs": [
    {
     "name": "stdout",
     "output_type": "stream",
     "text": [
      "CREATE TABLE \"dimRegion\" (\n",
      "\"index\" INTEGER,\n",
      "  \"fips\" REAL,\n",
      "  \"province_state\" TEXT,\n",
      "  \"country_region\" TEXT,\n",
      "  \"confirmed\" REAL,\n",
      "  \"deaths\" REAL,\n",
      "  \"recovered\" REAL,\n",
      "  \"active\" REAL,\n",
      "  \"date\" INTEGER,\n",
      "  \"positive\" INTEGER,\n",
      "  \"negative\" REAL,\n",
      "  \"hospitalizedcurrently\" REAL,\n",
      "  \"hospitalized\" REAL,\n",
      "  \"hospitalizeddischarged\" REAL\n",
      ")\n"
     ]
    }
   ],
   "source": [
    "dimRegionsql = pd.io.sql.get_schema(dimRegion.reset_index(),'dimRegion')\n",
    "print(''.join(dimRegionsql))"
   ]
  },
  {
   "cell_type": "code",
   "execution_count": 56,
   "metadata": {},
   "outputs": [
    {
     "name": "stdout",
     "output_type": "stream",
     "text": [
      "CREATE TABLE \"dimHospital\" (\n",
      "\"index\" INTEGER,\n",
      "  \"fips\" REAL,\n",
      "  \"state_name\" TEXT,\n",
      "  \"latitude\" REAL,\n",
      "  \"longtitude\" REAL,\n",
      "  \"hq_address\" TEXT,\n",
      "  \"hospital_type\" TEXT,\n",
      "  \"hospital_name\" TEXT,\n",
      "  \"hq_city\" TEXT,\n",
      "  \"hq_state\" TEXT\n",
      ")\n"
     ]
    }
   ],
   "source": [
    "dimHospitalsql = pd.io.sql.get_schema(dimHospital.reset_index(),'dimHospital')\n",
    "print(''.join(dimHospitalsql))"
   ]
  },
  {
   "cell_type": "markdown",
   "metadata": {},
   "source": [
    "#### Create Redshift cluster"
   ]
  },
  {
   "cell_type": "code",
   "execution_count": 60,
   "metadata": {},
   "outputs": [],
   "source": [
    "DWH_CLUSTER_TYPE        = config.get('DWH','DWH_CLUSTER_TYPE')\n",
    "DWH_NUM_NODES           = config.get('DWH','DWH_NUM_NODES')\n",
    "DWH_NODE_TYPE           = config.get('DWH','DWH_NODE_TYPE')\n",
    "DWH_CLUSTER_IDENTIFIER  = config.get('DWH','DWH_CLUSTER_IDENTIFIER')\n",
    "DWH_DB                  = config.get('DWH','DWH_DB')\n",
    "DWH_DB_USER             = config.get('DWH','DWH_DB_USER')\n",
    "DWH_DB_PASSWORD         = config.get('DWH','DWH_DB_PASSWORD')\n",
    "DWH_PORT                = config.get('DWH','DWH_PORT')\n",
    "DWH_IAM_ROLE_NAME       = config.get('DWH','DWH_IAM_ROLE_NAME')\n",
    "\n",
    "\n",
    "iam = boto3.client(\n",
    "    'iam',\n",
    "    region_name = AWS_REGION,\n",
    "    aws_access_key_id=AWS_ACCESS_KEY,\n",
    "    aws_secret_access_key=AWS_SECRET_KEY\n",
    ")\n",
    "redshift = boto3.client(\n",
    "    'redshift',\n",
    "    region_name = AWS_REGION,\n",
    "    aws_access_key_id=AWS_ACCESS_KEY,\n",
    "    aws_secret_access_key=AWS_SECRET_KEY\n",
    ")\n",
    "ec2 = boto3.resource(\n",
    "    'ec2',\n",
    "    region_name = \"eu-central-1\",\n",
    "    aws_access_key_id=AWS_ACCESS_KEY,\n",
    "    aws_secret_access_key=AWS_SECRET_KEY\n",
    ")\n",
    "roleArn = iam.get_role(RoleName=DWH_IAM_ROLE_NAME)['Role']['Arn']\n",
    "\n",
    "# create redshift cluster\n",
    "try:\n",
    "    response = redshift.create_cluster(\n",
    "        ClusterType=DWH_CLUSTER_TYPE,\n",
    "        NodeType=DWH_NODE_TYPE,\n",
    "        #identifier and credentials\n",
    "        DBName=DWH_DB,\n",
    "        ClusterIdentifier=DWH_CLUSTER_IDENTIFIER,\n",
    "        MasterUsername=DWH_DB_USER,\n",
    "        MasterUserPassword=DWH_DB_PASSWORD,\n",
    "        # Roles for s3 access\n",
    "        IamRoles=[roleArn]\n",
    "    )\n",
    "\n",
    "except Exception as e:\n",
    "    print(e)"
   ]
  },
  {
   "cell_type": "code",
   "execution_count": 63,
   "metadata": {},
   "outputs": [
    {
     "name": "stdout",
     "output_type": "stream",
     "text": [
      "'ec2.ServiceResource' object has no attribute 'VPC'\n"
     ]
    }
   ],
   "source": [
    "myClusterProps =redshift.describe_clusters(ClusterIdentifier=DWH_CLUSTER_IDENTIFIER)['Clusters'][0]\n",
    "# create vpc\n",
    "try:\n",
    "    vpc=ec2.VPC(id=myClusterProps['VpcId'])\n",
    "    defultSg=list(vpc.security_groups.all())[0]\n",
    "    print(defultSg)\n",
    "    defultSg.authorize_ingress(\n",
    "        GroupName = defultSg.group_name,\n",
    "        CidrIp='0.0.0.0/0',\n",
    "        IpProtocol='TCP',\n",
    "        FromPort= int(DWH_PORT),\n",
    "        ToPort= int(DWH_PORT)\n",
    "    )\n",
    "except Exception as e:\n",
    "    print(e)"
   ]
  },
  {
   "cell_type": "code",
   "execution_count": 72,
   "metadata": {},
   "outputs": [],
   "source": [
    "# connect to Redshift\n",
    "import redshift_connector\n",
    "\n",
    "DWH_ENDPOINT = myClusterProps['Endpoint']['Address']\n",
    "try:\n",
    "    conn = redshift_connector.connect(\n",
    "        host=DWH_ENDPOINT,\n",
    "        database=DWH_DB,\n",
    "        user=DWH_DB_USER,\n",
    "        password=DWH_DB_PASSWORD\n",
    "    )\n",
    "    \n",
    "except redshift_connector.Error as e:\n",
    "    print(\"Error: Couldn't make connection to the Postgres database\")\n",
    "    print(e)\n",
    "\n",
    "conn.autocommit = True"
   ]
  },
  {
   "cell_type": "code",
   "execution_count": 75,
   "metadata": {},
   "outputs": [],
   "source": [
    "# create cursure to execute query on Redshift or database\n",
    "try:\n",
    "    cursor = conn.cursor()\n",
    "except redshift_connector.Error as e:\n",
    "    print(\"Error: Couldn't get cursur to the Database\")\n",
    "    print(e)"
   ]
  },
  {
   "cell_type": "markdown",
   "metadata": {},
   "source": [
    "### Do some queries on Redshift cluster"
   ]
  },
  {
   "cell_type": "code",
   "execution_count": 86,
   "metadata": {},
   "outputs": [
    {
     "data": {
      "text/plain": [
       "<redshift_connector.cursor.Cursor at 0x7f5255bf2080>"
      ]
     },
     "execution_count": 86,
     "metadata": {},
     "output_type": "execute_result"
    }
   ],
   "source": [
    "cursor.execute(\"\"\"\n",
    "CREATE TABLE \"dimDate\" (\n",
    "\"index\" INTEGER,\n",
    "  \"fips\" REAL,\n",
    "  \"date\" TIMESTAMP,\n",
    "  \"year\" INTEGER,\n",
    "  \"month\" INTEGER,\n",
    "  \"day_of_week\" INTEGER\n",
    ");\n",
    "\"\"\")"
   ]
  },
  {
   "cell_type": "code",
   "execution_count": 80,
   "metadata": {},
   "outputs": [
    {
     "data": {
      "text/plain": [
       "<redshift_connector.cursor.Cursor at 0x7f5255bf2080>"
      ]
     },
     "execution_count": 80,
     "metadata": {},
     "output_type": "execute_result"
    }
   ],
   "source": [
    "# same things for other tabels with different method\n",
    "cursor.execute(''.join(factCovidsql))\n",
    "cursor.execute(''.join(dimRegionsql))\n",
    "cursor.execute(''.join(dimHospitalsql))"
   ]
  },
  {
   "cell_type": "code",
   "execution_count": 87,
   "metadata": {},
   "outputs": [
    {
     "data": {
      "text/plain": [
       "<redshift_connector.cursor.Cursor at 0x7f5255bf2080>"
      ]
     },
     "execution_count": 87,
     "metadata": {},
     "output_type": "execute_result"
    }
   ],
   "source": [
    "# use copy command to copy data from s3 to redshift\n",
    "cursor.execute(\"\"\"\n",
    "                copy dimDate from 's3://parham-covid-de-project/output/dimDate.csv'\n",
    "                credentials 'aws_iam_role=arn:aws:iam::865994740931:role/parham'\n",
    "                delimiter ','\n",
    "                region 'eu-central-1'\n",
    "               IGNOREHEADER 1\n",
    "\"\"\")\n",
    "\n",
    "cursor.execute(\"\"\"\n",
    "                copy dimHospital from 's3://parham-covid-de-project/output/dimHospital.csv'\n",
    "                credentials 'aws_iam_role=arn:aws:iam::865994740931:role/parham'\n",
    "                delimiter ','\n",
    "                region 'eu-central-1'\n",
    "               IGNOREHEADER 1\n",
    "\"\"\")\n",
    "\n",
    "cursor.execute(\"\"\"\n",
    "                copy dimRegion from 's3://parham-covid-de-project/output/dimRegion.csv'\n",
    "                credentials 'aws_iam_role=arn:aws:iam::865994740931:role/parham'\n",
    "                delimiter ','\n",
    "                region 'eu-central-1'\n",
    "               IGNOREHEADER 1\n",
    "\"\"\")\n",
    "\n",
    "cursor.execute(\"\"\"\n",
    "                copy factCovid from 's3://parham-covid-de-project/output/factCovid.csv'\n",
    "                credentials 'aws_iam_role=arn:aws:iam::865994740931:role/parham'\n",
    "                delimiter ','\n",
    "                region 'eu-central-1'\n",
    "               IGNOREHEADER 1\n",
    "\"\"\")"
   ]
  }
 ],
 "metadata": {
  "kernelspec": {
   "display_name": "Python 3",
   "language": "python",
   "name": "python3"
  },
  "language_info": {
   "codemirror_mode": {
    "name": "ipython",
    "version": 3
   },
   "file_extension": ".py",
   "mimetype": "text/x-python",
   "name": "python",
   "nbconvert_exporter": "python",
   "pygments_lexer": "ipython3",
   "version": "3.10.6"
  },
  "orig_nbformat": 4
 },
 "nbformat": 4,
 "nbformat_minor": 2
}
